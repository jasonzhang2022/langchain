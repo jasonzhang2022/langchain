{
 "cells": [
  {
   "cell_type": "code",
   "execution_count": 1,
   "id": "e05a3ee2-9842-4295-8a2c-ec4c1b97cf4f",
   "metadata": {},
   "outputs": [],
   "source": [
    "import os\n",
    "\n",
    "os.environ[\"LANGSMITH_TRACING_V2\"] = \"true\"\n",
    "os.environ[\"LANGSMITH_TRACING\"] = \"true\"\n",
    "# use default project.\n",
    "#os.environ[\"LANGSMITH_PROJECT\"] = f\"classification - {unique_id}\""
   ]
  },
  {
   "cell_type": "code",
   "execution_count": 2,
   "id": "bee0b574-bac0-40f9-a5ca-9d85af72afb3",
   "metadata": {},
   "outputs": [],
   "source": [
    "from langchain.chat_models import init_chat_model\n",
    "\n",
    "llm = init_chat_model(model=\"gemini-2.0-flash-001\", model_provide=\"google_vertexai\")"
   ]
  },
  {
   "cell_type": "code",
   "execution_count": 3,
   "id": "44b39f4f-5ba5-45b7-8a00-2e842e3f81b8",
   "metadata": {},
   "outputs": [],
   "source": [
    "from langchain_google_vertexai import VertexAIEmbeddings\n",
    "\n",
    "embeddings = VertexAIEmbeddings(model=\"text-embedding-004\")"
   ]
  },
  {
   "cell_type": "code",
   "execution_count": 5,
   "id": "bf0756b0-03da-4368-bd69-f4f107bc00dc",
   "metadata": {},
   "outputs": [],
   "source": [
    "from langchain_core.vectorstores import InMemoryVectorStore\n",
    "\n",
    "vector_store = InMemoryVectorStore(embeddings)"
   ]
  },
  {
   "cell_type": "markdown",
   "id": "f1dad284-b249-45af-a564-d61f300d4ccc",
   "metadata": {},
   "source": [
    "## Flow\n",
    "\n",
    "In this RAG, we are going to build an execution graph.  A graph consists of edges and nodes. The graph state is passed along the way, and updated by each node. So we need a well-defined state, and node toplogy. Here, we have a very simple static linear execution flow. The node itself uses llm in various stage (embedding, augumented generation).\n",
    "\n",
    "Please note that with the static graph execution flow, we don't need graph, we can write  code that calls function by function.\n",
    "\n",
    "**Graph has state, and method to build the toplogy: edge and nodes**\n",
    "\n",
    "In this example, we don't have tool node and automatically tool call. Once we have tool nodes, the **execution flow is dynamic**. The llm decides what tool node to call, and provides\n",
    "arguments to match tools parameters. "
   ]
  },
  {
   "cell_type": "markdown",
   "id": "38325e8f-75f7-4c3a-9fb4-213b6c39dfff",
   "metadata": {},
   "source": [
    "In the static graph, we will have two steps. \n",
    "1: Retrieve docs based on question.  For this, we need have all document indexed to vector store\n",
    "2: Send querys, and docs to llm , and let llm to formulate an answer. \n",
    "\n"
   ]
  },
  {
   "cell_type": "code",
   "execution_count": 10,
   "id": "06d91c44-74ce-42c2-8e9a-29f8e27c373d",
   "metadata": {},
   "outputs": [],
   "source": [
    "# prepare the vector store so we can retrieve documents. \n",
    "import bs4\n",
    "from langchain_core.documents import Document\n",
    "from langchain_community.document_loaders import WebBaseLoader\n",
    "from langchain_text_splitters import RecursiveCharacterTextSplitter\n",
    "\n",
    "loader = WebBaseLoader(\n",
    "    web_paths=(\"https://lilianweng.github.io/posts/2023-06-23-agent/\",),\n",
    "    bs_kwargs= dict(parse_only=bs4.SoupStrainer(\n",
    "        class_=(\"post-content\", \"post-title\", \"post-header\")\n",
    "    )\n",
    "                   ))\n",
    "\n",
    "docs = loader.load()\n",
    "\n",
    "splitter = RecursiveCharacterTextSplitter(chunk_size=1000, chunk_overlap=200, add_start_index=True)\n",
    "splits =splitter.split_documents(docs)\n",
    "one_third = len(splits)/3\n",
    "for index, split in enumerate(splits):\n",
    "    if index < one_third:\n",
    "        split.metadata['section']='begin'\n",
    "    elif index < one_third *2:\n",
    "        split.metadata['section']='middle'\n",
    "    else:\n",
    "        split.metadata['section']='end'\n",
    "\n"
   ]
  },
  {
   "cell_type": "code",
   "execution_count": null,
   "id": "5c88a53c-b854-42a0-8849-a1b04265c87d",
   "metadata": {},
   "outputs": [],
   "source": [
    "vector_store.add_documents(documents=splits)"
   ]
  },
  {
   "cell_type": "code",
   "execution_count": 42,
   "id": "852a5d68-cf06-4f1a-b605-3cd12031cd46",
   "metadata": {},
   "outputs": [],
   "source": [
    "from pydantic import BaseModel, Field\n",
    "from typing import List, Literal, Annotated, Optional, TypedDict\n",
    "from langchain_core.prompts import PromptTemplate\n",
    "from langgraph.graph import START, StateGraph\n",
    "prompt = PromptTemplate.from_template(\n",
    "    \"\"\"You are an assistant for question-answering tasks. Use the following pieces of\n",
    "    retrieved context to answer the question. If you don't know the answer,\n",
    "    just say that you don't know. Use three sentences maximum and\n",
    "    keep the answer concise.\n",
    "    \n",
    "Question: {question} \n",
    "Context: {context} \n",
    "Answer:\"\"\")\n",
    "\n",
    "class Search(BaseModel):\n",
    "    query: str =Field(..., description=\"the query to search\")\n",
    "    section: Optional[Literal[\"begin\", \"middle\", \"end\"]] = Field(None, \n",
    "                                                                 description=\"what section we should search from\")\n",
    "\n",
    "                             \n",
    "class State(TypedDict):\n",
    "    question: Annotated[str, ..., \"question from user\"]\n",
    "    search: Annotated[Optional[Search], ..., \"transformed query\"]\n",
    "    context: Annotated[Optional[List[Document]], ..., \"found documents\"]\n",
    "    answer: Annotated[Optional[str], ..., \"answer from model\"]\n",
    "\n",
    "\n",
    "def transform_query (state: State):\n",
    "    strutured_llm = llm.with_structured_output(Search)\n",
    "    resp= strutured_llm.invoke(state['question'])\n",
    "    return {'search': resp}\n",
    "    \n",
    "def retrieve(state: State):\n",
    "    search = state['search']\n",
    "    found_splitts = vector_store.similarity_search(search.query,\n",
    "                                                  filter=lambda doc : doc.metadata['section']==search.section if search.section else True\n",
    "                                                  )\n",
    "    return {'context': found_splitts}\n",
    "\n",
    "def gen(state: State):\n",
    "    content = \"\\n\\n\".join( doc.page_content for doc in state['context'])\n",
    "    prompt_instance = prompt.invoke({\"question\": state['question'], \"context\":content})\n",
    "    resp = llm.invoke(prompt_instance)\n",
    "    return {'answer': resp.content}\n",
    "\n",
    "\n"
   ]
  },
  {
   "cell_type": "code",
   "execution_count": 48,
   "id": "4dbcca7b-d7e3-47d4-b577-aef2105e6133",
   "metadata": {},
   "outputs": [],
   "source": [
    "graph_builder = StateGraph(State).add_sequence([transform_query, retrieve, gen])\n",
    "graph_builder.add_edge(START, 'transform_query')\n",
    "graph= graph_builder.compile()"
   ]
  },
  {
   "cell_type": "code",
   "execution_count": 51,
   "id": "fb4d169c-0ed7-45f3-8cab-efcd408a7f65",
   "metadata": {},
   "outputs": [
    {
     "name": "stdout",
     "output_type": "stream",
     "text": [
      "query='task decomposition' section='begin'\n"
     ]
    }
   ],
   "source": [
    "state ={'question':\"What is task decomposition?\"}\n",
    "resp=graph.invoke(state)"
   ]
  },
  {
   "cell_type": "code",
   "execution_count": 49,
   "id": "e8bb9404-4825-46d8-9d77-a1b1ca0a46b1",
   "metadata": {},
   "outputs": [
    {
     "data": {
      "image/png": "[encoded data removed]",
      "text/plain": [
       "<IPython.core.display.Image object>"
      ]
     },
     "metadata": {},
     "output_type": "display_data"
    }
   ],
   "source": [
    "from IPython.display import Image, display, Markdown\n",
    "display(Image(graph.get_graph().draw_mermaid_png()))"
   ]
  },
  {
   "cell_type": "code",
   "execution_count": 52,
   "id": "303fe3fa-a7c1-4e7d-ae6b-ece98a853ca6",
   "metadata": {},
   "outputs": [
    {
     "data": {
      "text/markdown": [
       "Task decomposition involves breaking down large tasks into smaller, manageable subgoals to efficiently handle complex tasks. It can be achieved through methods like chain of thought prompting, task-specific instructions, or human input. This approach transforms big tasks into multiple manageable ones, shedding light on the model’s thinking process.\n"
      ],
      "text/plain": [
       "<IPython.core.display.Markdown object>"
      ]
     },
     "metadata": {},
     "output_type": "display_data"
    }
   ],
   "source": [
    "display(Markdown(resp['answer']))"
   ]
  },
  {
   "cell_type": "code",
   "execution_count": null,
   "id": "fb6571e8-bf2e-4ce2-b918-ce6afaf85611",
   "metadata": {},
   "outputs": [],
   "source": []
  }
 ],
 "metadata": {
  "kernelspec": {
   "display_name": "Python 3 (ipykernel)",
   "language": "python",
   "name": "python3"
  },
  "language_info": {
   "codemirror_mode": {
    "name": "ipython",
    "version": 3
   },
   "file_extension": ".py",
   "mimetype": "text/x-python",
   "name": "python",
   "nbconvert_exporter": "python",
   "pygments_lexer": "ipython3",
   "version": "3.12.8"
  }
 },
 "nbformat": 4,
 "nbformat_minor": 5
}
