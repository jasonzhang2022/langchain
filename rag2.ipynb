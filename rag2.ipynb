{
 "cells": [
  {
   "cell_type": "markdown",
   "id": "2b5cdb87-2378-49e9-b626-2f47565a5416",
   "metadata": {},
   "source": [
    "## RAG2\n",
    "\n",
    "This version is similar to RAG1\n",
    "\n",
    "+ In RAG1, the first step is LLM with a structured output( llm.with_structued_output)\n",
    "  + In RGA2, the first step is LLM with tools bound (llm.bind_tools). By this way, the execution can be routed to tool node\n",
    "+ in RAG1, tool call (searching vector store) is a explicit step, just like other step.\n",
    "  +  In RAG2, the tool is wrapped through tool node. The excution is routed to it through a tools_conditions. The tools args are\n",
    "     structured output.\n",
    "+ in RAG1, we combine all the output and generate a response in natural language\n",
    "  + in RAG2, we again combine all the outpus and generate a respose in natual language.\n",
    " \n",
    "+ RAG1 has a well-defined State while RAG2 uses MessagesState. In real application, we may want to use well-defined state, so we can compose a unique prompt at each step based on the data from state. "
   ]
  },
  {
   "cell_type": "code",
   "execution_count": 1,
   "id": "ab1b5193-d631-44fd-a3ac-113000af25cb",
   "metadata": {},
   "outputs": [],
   "source": [
    "## Basic set up : create chat mode, vector store\n",
    "\n",
    "from langchain_google_vertexai import ChatVertexAI, VertexAIEmbeddings\n",
    "from langchain_core.vectorstores import InMemoryVectorStore\n",
    "\n",
    "llm = ChatVertexAI(model=\"gemini-2.0-flash-001\")\n",
    "embeddings = VertexAIEmbeddings(model=\"text-embedding-004\")\n",
    "vector_store = InMemoryVectorStore(embeddings)\n",
    "\n",
    "\n",
    "\n"
   ]
  },
  {
   "cell_type": "code",
   "execution_count": 2,
   "id": "aaf17ad9-21c2-4d88-8953-39ba85be8864",
   "metadata": {},
   "outputs": [
    {
     "name": "stderr",
     "output_type": "stream",
     "text": [
      "USER_AGENT environment variable not set, consider setting it to identify your requests.\n"
     ]
    }
   ],
   "source": [
    "## Index documents. This is the basis of all our queries. \n",
    "## This is like database setup. \n",
    "import bs4\n",
    "from langchain_core.documents import Document\n",
    "from langchain_community.document_loaders import WebBaseLoader\n",
    "from langchain_text_splitters import RecursiveCharacterTextSplitter\n",
    "\n",
    "loader = WebBaseLoader(web_paths=(\"https://lilianweng.github.io/posts/2023-06-23-agent/\",),\n",
    "                      bs_kwargs=dict(parse_only=bs4.SoupStrainer(\n",
    "                          class_=(\"post-content\", \"post-header\", \"post-title\")\n",
    "                      )))\n",
    "\n",
    "docs = loader.load()\n",
    "splitter = RecursiveCharacterTextSplitter(chunk_size=1000, chunk_overlap=200, add_start_index=True)\n",
    "splitts = splitter.split_documents(documents=docs)\n",
    "_=vector_store.add_documents(splitts)\n"
   ]
  },
  {
   "cell_type": "code",
   "execution_count": 3,
   "id": "f17b5a14-0f4e-4473-89a2-e94c0968e613",
   "metadata": {},
   "outputs": [
    {
     "data": {
      "image/png": "[encoded data removed]",
      "text/plain": [
       "<IPython.core.display.Image object>"
      ]
     },
     "metadata": {},
     "output_type": "display_data"
    }
   ],
   "source": [
    "# We are going to build a graph here, \n",
    "\n",
    "# Graph always needs State, MessagesState is so pupular, so it is provided\n",
    "from langgraph.graph import START, END, MessagesState, StateGraph\n",
    "# Tool call is part \n",
    "from langchain_core.tools import tool\n",
    "from langgraph.prebuilt import ToolNode, tools_condition\n",
    "from typing import Annotated\n",
    "from langchain_core.messages import SystemMessage, HumanMessage\n",
    "\n",
    "#The tool is just a regular python function with input spec.\n",
    "@tool(response_format=\"content_and_artifact\")\n",
    "def retrieve( query: Annotated[str, ..., \"The query to search external source\"]):\n",
    "    \"\"\"Retrieve documents based on the query string.\"\"\"\n",
    "    \n",
    "    docs = vector_store.similarity_search(query, k=2)\n",
    "\n",
    "    # summary text\n",
    "    text = \"\\n\\n\".join(f\"source: {doc.metadata['source']} \\n\\n content: {doc.page_content} \" for doc in docs)\n",
    "\n",
    "    return text, docs\n",
    "\n",
    "\n",
    "#step 1 Query -> [Tool call | END]\n",
    "def check_query(msg_state:MessagesState):\n",
    "    # only after bind tools. The llm can output a ToolCall \n",
    "    # The toolCall will be invoked by graph\n",
    "    llm_with_tools = llm.bind_tools([retrieve])\n",
    "    # give all the message to llm\n",
    "    ai_msg = llm_with_tools.invoke(msg_state['messages'])\n",
    "    return {'messages': [ai_msg]}\n",
    "\n",
    "# step 2. tool call\n",
    "tools = ToolNode([retrieve])\n",
    "\n",
    "#step 3. Generate text based on tool call results\n",
    "\n",
    "def gen(msg_state:MessagesState):\n",
    "    #retreive the messages from tool call.\n",
    "\n",
    "    last_tool_msg = None\n",
    "    for msg in reversed(msg_state['messages']):\n",
    "        if msg.type == 'tool':\n",
    "            last_tool_msg = msg\n",
    "            break\n",
    "\n",
    "    # \n",
    "    docs_content = last_tool_msg.content\n",
    "    system_message_content = (\n",
    "        \"You are an assistant for question-answering tasks. \"\n",
    "        \"Use the following pieces of retrieved context to answer \"\n",
    "        \"the question. If you don't know the answer, say that you \"\n",
    "        \"don't know. Use three sentences maximum and keep the \"\n",
    "        \"answer concise.\"\n",
    "        \"\\n\\n\"\n",
    "        f\"{docs_content}\"\n",
    "    )\n",
    "\n",
    "    msgs = [msg \n",
    "            for msg in msg_state['messages']\n",
    "            if msg.type in ('human', 'system') # keep human and system\n",
    "            or (msg.type =='ai' and not msg.tool_calls) # keep ai, but not those for tool calls. tool calls already ececuted\n",
    "           ]\n",
    "    ans=llm.invoke([SystemMessage(system_message_content)]+ msgs)\n",
    "    return {'messages': [ans]}\n",
    "\n",
    "graph_builder = StateGraph(MessagesState)\n",
    "graph_builder.add_node(check_query)\n",
    "graph_builder.add_node(tools)\n",
    "graph_builder.add_node(gen)\n",
    "graph_builder.set_entry_point(\"check_query\")\n",
    "graph_builder.add_conditional_edges(\"check_query\", tools_condition, {END:END, \"tools\": \"tools\"})\n",
    "graph_builder.add_edge(\"tools\", \"gen\")\n",
    "graph_builder.add_edge(\"gen\", END)\n",
    "graph=graph_builder.compile()\n",
    "\n",
    "from IPython.display import display, Image\n",
    "display(Image(graph.get_graph().draw_mermaid_png()))\n"
   ]
  },
  {
   "cell_type": "code",
   "execution_count": 6,
   "id": "d1c98dc2-5a48-4f0d-ac0c-73b27a1009e0",
   "metadata": {},
   "outputs": [
    {
     "name": "stdout",
     "output_type": "stream",
     "text": [
      "content='What is Task Decomposition?' additional_kwargs={} response_metadata={} id='3f4a7e52-ee80-478c-bad3-34fae95b99d6'\n",
      "content='' additional_kwargs={'function_call': {'name': 'retrieve', 'arguments': '{\"query\": \"Task Decomposition\"}'}} response_metadata={'is_blocked': False, 'safety_ratings': [], 'usage_metadata': {'prompt_token_count': 22, 'candidates_token_count': 4, 'total_token_count': 26, 'prompt_tokens_details': [{'modality': 1, 'token_count': 22}], 'candidates_tokens_details': [{'modality': 1, 'token_count': 4}], 'cached_content_token_count': 0, 'cache_tokens_details': []}, 'finish_reason': 'STOP', 'avg_logprobs': -0.014761298894882202} id='run-2d2086b9-01bd-4c1a-b4f6-c9090702030b-0' tool_calls=[{'name': 'retrieve', 'args': {'query': 'Task Decomposition'}, 'id': '37e6c0a2-e652-460c-b94c-166ab78c8ea2', 'type': 'tool_call'}] usage_metadata={'input_tokens': 22, 'output_tokens': 4, 'total_tokens': 26}\n",
      "content='source: https://lilianweng.github.io/posts/2023-06-23-agent/ \\n\\n content: Fig. 1. Overview of a LLM-powered autonomous agent system.\\nComponent One: Planning#\\nA complicated task usually involves many steps. An agent needs to know what they are and plan ahead.\\nTask Decomposition#\\nChain of thought (CoT; Wei et al. 2022) has become a standard prompting technique for enhancing model performance on complex tasks. The model is instructed to “think step by step” to utilize more test-time computation to decompose hard tasks into smaller and simpler steps. CoT transforms big tasks into multiple manageable tasks and shed lights into an interpretation of the model’s thinking process. \\n\\nsource: https://lilianweng.github.io/posts/2023-06-23-agent/ \\n\\n content: Tree of Thoughts (Yao et al. 2023) extends CoT by exploring multiple reasoning possibilities at each step. It first decomposes the problem into multiple thought steps and generates multiple thoughts per step, creating a tree structure. The search process can be BFS (breadth-first search) or DFS (depth-first search) with each state evaluated by a classifier (via a prompt) or majority vote.\\nTask decomposition can be done (1) by LLM with simple prompting like \"Steps for XYZ.\\\\n1.\", \"What are the subgoals for achieving XYZ?\", (2) by using task-specific instructions; e.g. \"Write a story outline.\" for writing a novel, or (3) with human inputs. ' name='retrieve' id='0b44004f-a6fa-453c-8b88-6a3c350ee221' tool_call_id='37e6c0a2-e652-460c-b94c-166ab78c8ea2' artifact=[Document(id='94a528dd-f838-4ed4-a009-080efa3aa733', metadata={'source': 'https://lilianweng.github.io/posts/2023-06-23-agent/', 'start_index': 1585}, page_content='Fig. 1. Overview of a LLM-powered autonomous agent system.\\nComponent One: Planning#\\nA complicated task usually involves many steps. An agent needs to know what they are and plan ahead.\\nTask Decomposition#\\nChain of thought (CoT; Wei et al. 2022) has become a standard prompting technique for enhancing model performance on complex tasks. The model is instructed to “think step by step” to utilize more test-time computation to decompose hard tasks into smaller and simpler steps. CoT transforms big tasks into multiple manageable tasks and shed lights into an interpretation of the model’s thinking process.'), Document(id='b30179cd-4c0f-4330-a5ea-01e5f7ed1a63', metadata={'source': 'https://lilianweng.github.io/posts/2023-06-23-agent/', 'start_index': 2192}, page_content='Tree of Thoughts (Yao et al. 2023) extends CoT by exploring multiple reasoning possibilities at each step. It first decomposes the problem into multiple thought steps and generates multiple thoughts per step, creating a tree structure. The search process can be BFS (breadth-first search) or DFS (depth-first search) with each state evaluated by a classifier (via a prompt) or majority vote.\\nTask decomposition can be done (1) by LLM with simple prompting like \"Steps for XYZ.\\\\n1.\", \"What are the subgoals for achieving XYZ?\", (2) by using task-specific instructions; e.g. \"Write a story outline.\" for writing a novel, or (3) with human inputs.')]\n",
      "content='Task decomposition breaks down complex tasks into smaller, more manageable steps. This can be achieved through methods like Chain of Thought (CoT), which prompts the model to \"think step by step\". Task decomposition can be done by LLMs with simple prompting, task-specific instructions or with human inputs.\\n' additional_kwargs={} response_metadata={'is_blocked': False, 'safety_ratings': [], 'usage_metadata': {'prompt_token_count': 404, 'candidates_token_count': 60, 'total_token_count': 464, 'prompt_tokens_details': [{'modality': 1, 'token_count': 404}], 'candidates_tokens_details': [{'modality': 1, 'token_count': 60}], 'cached_content_token_count': 0, 'cache_tokens_details': []}, 'finish_reason': 'STOP', 'avg_logprobs': -0.15903058052062988} id='run-1842dac7-6d40-453c-8d06-1ea34ae3ffe1-0' usage_metadata={'input_tokens': 404, 'output_tokens': 60, 'total_tokens': 464}\n"
     ]
    }
   ],
   "source": [
    "import os\n",
    "os.environ[\"LANGSMITH_TRACING\"] = \"true\"\n",
    "os.environ[\"LANGSMITH_TRACING_V2\"] = \"true\"\n",
    "\n",
    "for step in graph.stream( {\"messages\": [{\"role\": \"user\", \"content\": \"What is Task Decomposition?\"}]}, stream_mode=\"values\"):\n",
    "    print(step['messages'][-1])\n"
   ]
  },
  {
   "cell_type": "code",
   "execution_count": 5,
   "id": "da35bf7d-41bc-4ea2-88f4-b7912ecf5662",
   "metadata": {},
   "outputs": [
    {
     "data": {
      "text/plain": [
       "'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'"
      ]
     },
     "execution_count": 5,
     "metadata": {},
     "output_type": "execute_result"
    }
   ],
   "source": [
    "import os\n",
    "os.environ['LANGSMITH_API_KEY']"
   ]
  },
  {
   "cell_type": "code",
   "execution_count": null,
   "id": "200f0860-7b66-451b-9835-4e95027aeb07",
   "metadata": {},
   "outputs": [],
   "source": []
  }
 ],
 "metadata": {
  "kernelspec": {
   "display_name": "Python 3 (ipykernel)",
   "language": "python",
   "name": "python3"
  },
  "language_info": {
   "codemirror_mode": {
    "name": "ipython",
    "version": 3
   },
   "file_extension": ".py",
   "mimetype": "text/x-python",
   "name": "python",
   "nbconvert_exporter": "python",
   "pygments_lexer": "ipython3",
   "version": "3.12.8"
  }
 },
 "nbformat": 4,
 "nbformat_minor": 5
}
