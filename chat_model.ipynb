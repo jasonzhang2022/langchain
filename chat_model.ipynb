{
 "cells": [
  {
   "cell_type": "markdown",
   "id": "a5f457e2-34de-4e97-b433-df1de2803a5f",
   "metadata": {},
   "source": [
    "## Basic Chat Model"
   ]
  },
  {
   "cell_type": "code",
   "execution_count": 1,
   "id": "4d4b8c08-022e-403e-9310-00e5df861e30",
   "metadata": {},
   "outputs": [
    {
     "data": {
      "text/plain": [
       "AIMessage(content='早上好！ (Zǎoshang hǎo!)\\n', additional_kwargs={}, response_metadata={'is_blocked': False, 'safety_ratings': [], 'usage_metadata': {'prompt_token_count': 21, 'candidates_token_count': 13, 'total_token_count': 34, 'prompt_tokens_details': [{'modality': 1, 'token_count': 21}], 'candidates_tokens_details': [{'modality': 1, 'token_count': 13}], 'cached_content_token_count': 0, 'cache_tokens_details': []}, 'finish_reason': 'STOP', 'avg_logprobs': -0.24137005439171424}, id='run-18dcbd6b-cb40-411f-8aa9-7743cb923cbe-0', usage_metadata={'input_tokens': 21, 'output_tokens': 13, 'total_tokens': 34})"
      ]
     },
     "execution_count": 1,
     "metadata": {},
     "output_type": "execute_result"
    }
   ],
   "source": [
    "#invoke through chat modesl\n",
    "\n",
    "from langchain.chat_models import init_chat_model\n",
    "from langchain_core.messages import HumanMessage, SystemMessage\n",
    "\n",
    "chat_model = init_chat_model(\"gemini-2.0-flash-001\", model_provider=\"google_vertexai\")\n",
    "\n",
    "sys_msg = SystemMessage(\"System. You are professional translator, translating the text from user \"\n",
    "                        \"from english  to chinese \")\n",
    "human_msg = HumanMessage(\"Good Morning!\")\n",
    "\n",
    "chat_model.invoke([sys_msg, human_msg])"
   ]
  },
  {
   "cell_type": "code",
   "execution_count": 2,
   "id": "68900300-3c1c-46f1-9e77-391b91369016",
   "metadata": {},
   "outputs": [
    {
     "data": {
      "text/plain": [
       "AIMessage(content='早上好！ (Zǎoshang hǎo!)\\n', additional_kwargs={}, response_metadata={'is_blocked': False, 'safety_ratings': [], 'usage_metadata': {'prompt_token_count': 21, 'candidates_token_count': 13, 'total_token_count': 34, 'prompt_tokens_details': [{'modality': 1, 'token_count': 21}], 'candidates_tokens_details': [{'modality': 1, 'token_count': 13}], 'cached_content_token_count': 0, 'cache_tokens_details': []}, 'finish_reason': 'STOP', 'avg_logprobs': -0.02032931034381573}, id='run-b2909991-fbc5-475c-807b-685bf0bd6463-0', usage_metadata={'input_tokens': 21, 'output_tokens': 13, 'total_tokens': 34})"
      ]
     },
     "execution_count": 2,
     "metadata": {},
     "output_type": "execute_result"
    }
   ],
   "source": [
    "# through llm directly.\n",
    "from langchain_google_vertexai import ChatVertexAI\n",
    "\n",
    "llm = ChatVertexAI(\n",
    "    temprature=0,\n",
    "    model=\"gemini-2.0-flash-001\"\n",
    ")\n",
    "llm.invoke([sys_msg, human_msg])\n"
   ]
  },
  {
   "cell_type": "code",
   "execution_count": 19,
   "id": "0204ab0b-e59d-4313-b1cf-fe3e1163db85",
   "metadata": {},
   "outputs": [
    {
     "name": "stdout",
     "output_type": "stream",
     "text": [
      "早上好 (Zǎo shang hǎo)\n",
      "\n",
      "今天 ---\n",
      "天气不错，我应该去散个步。\n",
      " ---\n"
     ]
    }
   ],
   "source": [
    "# through chain with template\n",
    "\n",
    "from langchain_core.prompts import ChatPromptTemplate\n",
    "from langchain_google_vertexai import ChatVertexAI\n",
    "prompt = ChatPromptTemplate([\n",
    "    ('system', 'You are professional translator, translating the user text from {from_lang} to {to_lang}'),\n",
    "    ('user', '{msg}')\n",
    "])\n",
    "\n",
    "translator = ChatVertexAI(model=\"gemini-2.0-flash-001\")\n",
    "\n",
    "chain = prompt|translator\n",
    "ai_msg=chain.invoke({\n",
    "    'from_lang': 'English',\n",
    "    'to_lang': 'Chinese',\n",
    "    'msg': 'Good Morning'\n",
    "})\n",
    "\n",
    "print(ai_msg.content)\n",
    "\n",
    "# stream\n",
    "for ai_msg_chunk in  chain.stream({'from_lang': 'English',\n",
    "    'to_lang': 'Chinese',\n",
    "    'msg': 'Wheather is good today. I should go for a walking.'}):\n",
    "    print(ai_msg_chunk.content, \"---\")\n",
    "\n",
    "    "
   ]
  },
  {
   "cell_type": "code",
   "execution_count": 8,
   "id": "da5beb45-0cc2-46ef-8446-3409ad3eec2c",
   "metadata": {},
   "outputs": [],
   "source": [
    "## Document, Splitter, vector store, Retriever.\n",
    "\n",
    "# like message, prompt, document is a basic concept in langchain_core\n",
    "from langchain_core.documents import Document\n",
    "from langchain_community.document_loaders import PyPDFLoader\n",
    "from langchain_text_splitters import RecursiveCharacterTextSplitter\n",
    "\n",
    "\n",
    "pdf_loader = PyPDFLoader(\"~/Downloads/Accident insurance benefit- Google Copy.pdf\")\n",
    "docs = pdf_loader.load()\n",
    "splitter = RecursiveCharacterTextSplitter(chunk_size=1000, chunk_overlap=200, add_start_index=True)\n",
    "splitts = splitter.split_documents(docs)\n",
    "\n"
   ]
  },
  {
   "cell_type": "code",
   "execution_count": 5,
   "id": "9be849c3-1cd5-4945-a753-31fef4033f75",
   "metadata": {},
   "outputs": [],
   "source": [
    "from langchain_google_vertexai import VertexAIEmbeddings\n",
    "\n",
    "embeddings = VertexAIEmbeddings(model=\"text-embedding-004\")\n",
    "\n",
    "embeds = embeddings.embed_documents([\"Good morning\", \"Beijing is the capital city of China\", \n",
    "                                    \"Washington DC is the capital city of USA\"])\n",
    "\n"
   ]
  },
  {
   "cell_type": "code",
   "execution_count": 12,
   "id": "2a4039d6-1d33-4c2f-9008-b907474e6b2c",
   "metadata": {},
   "outputs": [],
   "source": [
    "from langchain_chroma  import Chroma\n",
    "vector_store=Chroma(embedding_function=embeddings)\n",
    "ids = vector_store.add_documents(documents=splitts)"
   ]
  },
  {
   "cell_type": "code",
   "execution_count": 13,
   "id": "bab15a35-7bf5-44ea-b3f9-1c530e8f714b",
   "metadata": {},
   "outputs": [],
   "source": [
    "results = vector_store.similarity_search(\"how much does it cost monthly?\", k=2)"
   ]
  },
  {
   "cell_type": "code",
   "execution_count": 19,
   "id": "5a289e2a-916f-463f-aa78-29405f13aa92",
   "metadata": {},
   "outputs": [],
   "source": [
    "retriever = vector_store.as_retriever(search_type=\"similarity\", search_kwargs={\"k\":1})\n",
    "results=retriever.batch([\"How much is the montly premium?\", \"Is fracture covered?\"])"
   ]
  },
  {
   "cell_type": "code",
   "execution_count": 34,
   "id": "8422148a-baea-49d2-b333-8889a3000420",
   "metadata": {},
   "outputs": [
    {
     "data": {
      "text/plain": [
       "AIMessage(content=\"Okay, to figure out your monthly cost, I need to know who you want to cover under the policy. Here's a breakdown of the monthly costs based on coverage:\\n\\n*   **Googler only:** $8.81\\n*   **Googler and spouse/domestic partner:** $12.56\\n*   **Googler and child(ren):** $17.71\\n*   **Googler, spouse/domestic partner and child(ren):** $23.87\\n\\nAlso, keep in mind that your eligible dependent parents are automatically covered at 50 percent of your elected coverage.\\n\\nTell me who you want to cover, and I can tell you the exact monthly cost.\", additional_kwargs={}, response_metadata={'is_blocked': False, 'safety_ratings': [], 'usage_metadata': {'prompt_token_count': 310, 'candidates_token_count': 154, 'total_token_count': 464, 'prompt_tokens_details': [{'modality': 1, 'token_count': 310}], 'candidates_tokens_details': [{'modality': 1, 'token_count': 154}], 'cached_content_token_count': 0, 'cache_tokens_details': []}, 'finish_reason': 'STOP', 'avg_logprobs': -0.04732999244293609}, id='run-07e5f549-b820-4a3c-be95-d0808cb1cdc3-0', usage_metadata={'input_tokens': 310, 'output_tokens': 154, 'total_tokens': 464})"
      ]
     },
     "execution_count": 34,
     "metadata": {},
     "output_type": "execute_result"
    }
   ],
   "source": [
    "llm = ChatVertexAI(model=\"gemini-2.0-flash-001\")\n",
    "\n",
    "from langchain_core.prompts import ChatPromptTemplate\n",
    "from IPython.display import display, Markdown, Latex\n",
    "\n",
    "prompt = ChatPromptTemplate([\n",
    "    ('system', \"you are a helpful insurance agent answering customer question related to insuarnce. Here is the insurance policy:\\n {policy}\"),\n",
    "    ('user', 'How much should I pay for this policy monthly?')\n",
    "])\n",
    "\n",
    "prompt_text =  prompt.invoke({'policy': results[0][0].page_content})\n",
    "ai_msg=llm.invoke(prompt_text)\n",
    "display(Markdown(ai_msg.content)"
   ]
  },
  {
   "cell_type": "code",
   "execution_count": 30,
   "id": "55fc7ca0-e487-4c6e-866a-2cbec6a15c8c",
   "metadata": {},
   "outputs": [
    {
     "data": {
      "text/plain": [
       "ChatPromptValue(messages=[SystemMessage(content='system, you are a helpful insurance agent answering customer question related to insuarnce. Here is the insurance policy:\\n{policy}', additional_kwargs={}, response_metadata={}), HumanMessage(content='How much should I pay for this policy monthly?', additional_kwargs={}, response_metadata={})])"
      ]
     },
     "execution_count": 30,
     "metadata": {},
     "output_type": "execute_result"
    }
   ],
   "source": [
    "prompt.invoke({\"policy\": \"good policy\"})"
   ]
  },
  {
   "cell_type": "code",
   "execution_count": 29,
   "id": "f1a10e68-3f67-40ef-be11-9c5af36037b3",
   "metadata": {},
   "outputs": [
    {
     "data": {
      "text/plain": [
       "'4Do you have aging parents?\\nYour eligible dependent parents are automatically covered at 50 percent  \\nof your elected coverage.\\nMonthly cost of coverage\\nGoogler only $8.81\\nGoogler and spouse/domestic partner $12.56\\nGoogler and child(ren) $17.71\\nGoogler, spouse/domestic partner and child(ren) $23.87\\nAll rates are subject to change.\\nReady to enroll? \\nIt’s quick and easy to enroll without answering health questions or  \\na doctor’s exam. \\nYou can enroll:\\nWithin 31 days of initial eligibility period  \\nDuring your open enrollment window\\nWithin 31 days of a qualified family status change\\nWe’re here to help\\nAccident insurance questions? \\nCall 833-745-5516  to chat with a Securian Financial customer service \\nrepresentative, Monday-Friday 5 a.m.-5 p.m. Pacific Time.  \\nEmail Securian Financial at googlesupport@securian.com  or sign up  \\nto talk to a Securian concierge live at go/illnessandaccidentinsuranceoh .\\nEnrollment questions? \\nVisit go/benefits-support .\\nLearn more'"
      ]
     },
     "execution_count": 29,
     "metadata": {},
     "output_type": "execute_result"
    }
   ],
   "source": [
    "results[0][0].page_content"
   ]
  },
  {
   "cell_type": "code",
   "execution_count": null,
   "id": "a79574b9-4742-4a3f-b2d8-c474a8d2d9ed",
   "metadata": {},
   "outputs": [],
   "source": []
  }
 ],
 "metadata": {
  "kernelspec": {
   "display_name": "Python 3 (ipykernel)",
   "language": "python",
   "name": "python3"
  },
  "language_info": {
   "codemirror_mode": {
    "name": "ipython",
    "version": 3
   },
   "file_extension": ".py",
   "mimetype": "text/x-python",
   "name": "python",
   "nbconvert_exporter": "python",
   "pygments_lexer": "ipython3",
   "version": "3.12.8"
  }
 },
 "nbformat": 4,
 "nbformat_minor": 5
}
